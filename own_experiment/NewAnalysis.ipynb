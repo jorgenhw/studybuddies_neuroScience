{
 "cells": [
  {
   "cell_type": "markdown",
   "metadata": {
    "Collapsed": "false"
   },
   "source": [
    "# Importing"
   ]
  },
  {
   "cell_type": "code",
   "execution_count": null,
   "metadata": {
    "Collapsed": "false"
   },
   "outputs": [],
   "source": [
    "# Installing stuff\n",
    "!pip install mne[data] --quiet\n",
    "!pip install sklearn --quiet\n",
    "\n",
    "# importing modules\n",
    "import os\n",
    "import numpy as np\n",
    "import mne"
   ]
  },
  {
   "cell_type": "markdown",
   "metadata": {
    "Collapsed": "false"
   },
   "source": [
    "# Load data"
   ]
  },
  {
   "cell_type": "code",
   "execution_count": null,
   "metadata": {
    "Collapsed": "false"
   },
   "outputs": [],
   "source": [
    "raw = mne.io.read_raw_brainvision(\"Group3_own.vhdr\", eog=('EOG1', 'EOG2'), misc='auto', scale=1.0, preload=False, verbose=None)"
   ]
  },
  {
   "cell_type": "markdown",
   "metadata": {
    "Collapsed": "false"
   },
   "source": [
    "# Filtering"
   ]
  },
  {
   "cell_type": "code",
   "execution_count": null,
   "metadata": {
    "Collapsed": "false"
   },
   "outputs": [],
   "source": [
    "#%%capture\n",
    "\n",
    "# high-pass filtering the data at 0.1 Hz and subsequently low-pass filtering at 40 Hz\n",
    "raw = raw.filter(0.1, None)\n",
    "raw = raw.filter(None, 40)\n",
    "\n",
    "# plotting the filtered data for inspection\n",
    "#raw.plot(n_channels = 30, start = 0, duration = 20);\n",
    "\n",
    "mne.viz.plot_raw(raw, n_channels = 32, scalings = dict(eeg = 1e-4), start = 300, duration = 100);"
   ]
  },
  {
   "cell_type": "markdown",
   "metadata": {
    "Collapsed": "false"
   },
   "source": [
    "# Artefact removal"
   ]
  },
  {
   "cell_type": "code",
   "execution_count": null,
   "metadata": {
    "Collapsed": "false"
   },
   "outputs": [],
   "source": [
    "# rejecting everything over or under a threshold of 150 microvolts\n",
    "# anything above or belove this threshold is likely not brain activity but artefacts\n",
    "reject = dict(eeg=150e-6)\n",
    "\n",
    "# plotting the data for inspection\n",
    "#raw.plot(n_channels = 30, );\n",
    "\n",
    "mne.viz.plot_raw(raw, n_channels = 32, scalings = dict(eeg = 1e-4), start = 300, duration = 100);\n",
    "\n",
    "mne.viz.plot_raw(raw_real, n_channels = 32, scalings = dict(eeg = 1e-4), start = 300, duration = 100);"
   ]
  },
  {
   "cell_type": "markdown",
   "metadata": {
    "Collapsed": "false"
   },
   "source": [
    "# Epoching"
   ]
  },
  {
   "cell_type": "code",
   "execution_count": null,
   "metadata": {
    "Collapsed": "false"
   },
   "outputs": [],
   "source": [
    "triggers, triggers_list = mne.events_from_annotations(raw_real)"
   ]
  },
  {
   "cell_type": "code",
   "execution_count": null,
   "metadata": {
    "Collapsed": "false"
   },
   "outputs": [],
   "source": [
    "# read in trig_list - triggers from logfile\n",
    "trig_list = np.genfromtxt('trig_list.csv', delimiter=',')"
   ]
  },
  {
   "cell_type": "code",
   "execution_count": null,
   "metadata": {
    "Collapsed": "false"
   },
   "outputs": [],
   "source": [
    "# number of triggers in that list\n",
    "print(np.shape(trig_list))\n",
    "# aligning first 10 triggers of both structures\n",
    "[triggers[0:10,2], trig_list[0:10]]"
   ]
  },
  {
   "cell_type": "code",
   "execution_count": null,
   "metadata": {
    "Collapsed": "false"
   },
   "outputs": [],
   "source": [
    "# making a copy of our trig_list (except 1st nan-trigger) and setting trigger-99 to 6 in order to be able to compare \n",
    "# the training-set-triggers directly with our EEG-triggers\n",
    "trig_list_temp = trig_list[1:].copy()\n",
    "trig_list_temp = trig_list_temp.astype(int)\n",
    "trig_list_temp[trig_list_temp==99] = 6\n",
    "# also a copy of the 3rd column of the triggers-structure (except 1st 99999-trigger)\n",
    "triggers_temp = triggers[1:,2].copy()\n",
    "triggers_temp = triggers_temp % 10 # % means modulo - it's an operator that allows you to get the \"rest\" number after having divided with a given number (here 10)\n",
    "# comparing the first 10 triggers of both temp-structures\n",
    "(triggers_temp[0:10], trig_list_temp[0:10])"
   ]
  },
  {
   "cell_type": "code",
   "execution_count": null,
   "metadata": {
    "Collapsed": "false"
   },
   "outputs": [],
   "source": [
    "# getting the index of the first trigger that's not part of the learning phase (and we start from index 1 because or temp-structures don't include the first pseudo-trial)\n",
    "learn_phase = np.argmax((triggers[1:,2]>151) | (triggers[1:,2]<112) & (triggers[1:,2]!=6))\n",
    "# testing whether all triggers of the two vectors correspond from the beginning till then\n",
    "all(triggers_temp[0:learn_phase]==trig_list_temp[0:learn_phase])"
   ]
  },
  {
   "cell_type": "code",
   "execution_count": null,
   "metadata": {
    "Collapsed": "false"
   },
   "outputs": [],
   "source": [
    "# THIS IS THE CRUCIAL STEP in creating and adapted triggers-structure:\n",
    "# the logic is that for any values AFTER thew learning phase, we simply subtract the modulo-values in triggers-temp from the triggers\n",
    "# (cuz the trigger-temp-values are equivalent to the \"ones\" from the triggers-structure), and then we add the values from the logfile\n",
    "new_triggers = triggers.copy()\n",
    "new_triggers[learn_phase+1:,2] = new_triggers[learn_phase+1:,2]-triggers_temp[learn_phase:]+trig_list_temp[learn_phase:]"
   ]
  },
  {
   "cell_type": "code",
   "execution_count": null,
   "metadata": {
    "Collapsed": "false"
   },
   "outputs": [],
   "source": [
    "%%capture\n",
    "\n",
    "new_triggers[:,2] # just having a quick look at the \"new\" trigger-values"
   ]
  },
  {
   "cell_type": "code",
   "execution_count": null,
   "metadata": {
    "Collapsed": "false"
   },
   "outputs": [],
   "source": [
    "# THIS IS WHERE WE RECODE THE TRIGGERS\n",
    "# Now we want to be able to tell all the different incorrect sequences from each other\n",
    "# And we know that they ALL uniquely start with 162 (cuz that's always the first number in an incrorrect sequence)\n",
    "# And we also know that if the second trigger is 175 and third is not 189, then it's a sequence that is incorrect from its third place onwards (and then we add 50 to all triggers in those sequences)\n",
    "# Same logic if the second and third triggers are 175 and 189, resp., and fourth is not 197, then it's a sequence that it's incorrect from its fourth place onwards (we add 100 to those)\n",
    "# Same logic if the second to fourth triggers are 175, 189, 197 resp., and fifth is not 201, then it's a sequence that it's incorrect from its fifth place onwards (we add 150 to those)\n",
    "incorr_idx = new_triggers[:,2] == 162 # getting a boolean index\n",
    "incorr_rows = [i for i, x in enumerate(incorr_idx) if x] # getting the actual trial-numbers to have something to loop over\n",
    "print(len(incorr_rows))\n",
    "for i in incorr_rows:\n",
    "    if (new_triggers[i+1,2]==175) & (new_triggers[i+2,2]!=189):\n",
    "        #print('third')\n",
    "        new_triggers[i:i+5,2] = new_triggers[i:i+5,2]+50\n",
    "    elif (new_triggers[i+1,2]==175) & (new_triggers[i+2,2]==189) & (new_triggers[i+3,2]!=197):\n",
    "        #print('fourth')\n",
    "        new_triggers[i:i+5,2] = new_triggers[i:i+5,2]+100\n",
    "    elif (new_triggers[i+1,2]==175) & (new_triggers[i+2,2]==189) & (new_triggers[i+3,2]==197) & (new_triggers[i+4,2]!=201):\n",
    "        #print('fifth')\n",
    "        new_triggers[i:i+5,2] = new_triggers[i:i+5,2]+150"
   ]
  },
  {
   "cell_type": "code",
   "execution_count": null,
   "metadata": {
    "Collapsed": "false"
   },
   "outputs": [],
   "source": [
    "%%capture\n",
    "\n",
    "np.unique(new_triggers[:,2]) # checking how many unique triggers we need to create event_ids for"
   ]
  },
  {
   "cell_type": "code",
   "execution_count": null,
   "metadata": {
    "Collapsed": "false"
   },
   "outputs": [],
   "source": [
    "%%capture\n",
    "\n",
    "new_event_id = {\n",
    " 'Imagine': 6, # \"Imagine\"\n",
    " 'recog_phase/corr/first/2': 12, # Number 1, recognition phase | correct\n",
    " 'recog_phase/corr/second/5': 25, # Number 2, recognition phase | correct\n",
    " 'recog_phase/corr/third/9': 39, # Number 3, recognition phase | correct\n",
    " 'recog_phase/corr/fourth/7': 47, # Number 4, recognition phase | correct\n",
    " 'recog_phase/corr/fifth/1': 51, # Number 5, recognition phase | correct\n",
    " 'learn_phase/first/2': 112, # Number 1, learning phase\n",
    " 'learn_phase/second/5': 125, # Number 2, learning phase\n",
    " 'learn_phase/third/9': 139, # Number 3, learning phase\n",
    " 'learn_phase/fourth/7': 147, # Number 4, learning phase\n",
    " 'learn_phase/fifth/1': 151, # Number 5, learning phase\n",
    " 'recog_phase/incorr2/first/2': 162, # Number 1, recognition phase | incorrect in place 2\n",
    " 'recog_phase/incorr2/second/1': 171, # Number 2, recognition phase | incorrect in place 2\n",
    " 'recog_phase/incorr2/second/3': 173, # Number 2, recognition phase | incorrect in place 2\n",
    " 'recog_phase/incorr2/second/4': 174, # Number 2, recognition phase | incorrect in place 2\n",
    " 'recog_phase/incorr2/second/6': 176, # Number 2, recognition phase | incorrect in place 2\n",
    " 'recog_phase/incorr2/second/7': 177, # Number 2, recognition phase | incorrect in place 2\n",
    " 'recog_phase/incorr2/second/8': 178, # Number 2, recognition phase | incorrect in place 2\n",
    " 'recog_phase/incorr2/second/9': 179, # Number 2, recognition phase | incorrect in place 2\n",
    " 'recog_phase/incorr2/third/1': 181, # Number 3, recognition phase | incorrect in place 2\n",
    " 'recog_phase/incorr2/third/3': 183, # Number 3, recognition phase | incorrect in place 2\n",
    " 'recog_phase/incorr2/third/4': 184, # Number 3, recognition phase | incorrect in place 2 \n",
    " 'recog_phase/incorr2/third/5': 185, # Number 3, recognition phase | incorrect in place 2\n",
    " 'recog_phase/incorr2/third/6': 186, # Number 3, recognition phase | incorrect in place 2\n",
    " 'recog_phase/incorr2/third/7': 187, # Number 3, recognition phase | incorrect in place 2\n",
    " 'recog_phase/incorr2/third/8': 188, # Number 3, recognition phase | incorrect in place 2\n",
    " 'recog_phase/incorr2/third/9': 189, # Number 3, recognition phase | incorrect in place 2 \n",
    " 'recog_phase/incorr2/fourth/1': 191, # Number 4, recognition phase | incorrect in place 2\n",
    " 'recog_phase/incorr2/fourth/3': 193, # Number 4, recognition phase | incorrect in place 2\n",
    " 'recog_phase/incorr2/fourth/5': 195, # Number 4, recognition phase | incorrect in place 2\n",
    " 'recog_phase/incorr2/fourth/6': 196, # Number 4, recognition phase | incorrect in place 2\n",
    " 'recog_phase/incorr2/fourth/7': 197, # Number 4, recognition phase | incorrect in place 2\n",
    " 'recog_phase/incorr2/fourth/8': 198, # Number 4, recognition phase | incorrect in place 2\n",
    " 'recog_phase/incorr2/fourth/9': 199, # Number 4, recognition phase | incorrect in place 2\n",
    " 'recog_phase/incorr2/fifth/1': 201, # Number 5, recognition phase | incorrect in place 2\n",
    " 'recog_phase/incorr2/fifth/3': 203, # Number 5, recognition phase | incorrect in place 2\n",
    " 'recog_phase/incorr2/fifth/4': 204, # Number 5, recognition phase | incorrect in place 2\n",
    " 'recog_phase/incorr2/fifth/5': 205, # Number 5, recognition phase | incorrect in place 2\n",
    " 'recog_phase/incorr2/fifth/6': 206, # Number 5, recognition phase | incorrect in place 2\n",
    " 'recog_phase/incorr2/fifth/7': 207, # Number 5, recognition phase | incorrect in place 2\n",
    " 'recog_phase/incorr2/fifth/8': 208, # Number 5, recognition phase | incorrect in place 2\n",
    " 'recog_phase/incorr2/fifth/9': 209, # Number 5, recognition phase | incorrect in place 2\n",
    "\n",
    " 'recog_phase/incorr3/first/2': 212, # Number 1, recognition phase | incorrect in place 3\n",
    " 'recog_phase/incorr3/second/5': 225, # Number 2, recognition phase | incorrect in place 3\n",
    " 'recog_phase/incorr3/third/1': 231, # Number 3, recognition phase | incorrect in place 3\n",
    " 'recog_phase/incorr3/third/4': 234, # Number 3, recognition phase | incorrect in place 3\n",
    " 'recog_phase/incorr3/third/6': 236, # Number 3, recognition phase | incorrect in place 3\n",
    " 'recog_phase/incorr3/fourth/7': 247, # Number 4, recognition phase | incorrect in place 3\n",
    " 'recog_phase/incorr3/fourth/8': 248, # Number 4, recognition phase | incorrect in place 3\n",
    " 'recog_phase/incorr3/fifth/3': 253, # Number 5, recognition phase | incorrect in place 3\n",
    " 'recog_phase/incorr3/fifth/9': 259, # Number 5, recognition phase | incorrect in place 3\n",
    " \n",
    " 'recog_phase/incorr4/first/2': 262, # Number 1, recognition phase | incorrect in place 4\n",
    " 'recog_phase/incorr4/second/5': 275, # Number 2, recognition phase | incorrect in place 4\n",
    " 'recog_phase/incorr4/third/9': 289, # Number 3, recognition phase | incorrect in place 4\n",
    " 'recog_phase/incorr4/fourth/0': 290, # Number 4, recognition phase | incorrect in place 4\n",
    " 'recog_phase/incorr4/fourth/1': 291, # Number 4, recognition phase | incorrect in place 4\n",
    " 'recog_phase/incorr4/fourth/3': 293, # Number 4, recognition phase | incorrect in place 4\n",
    " 'recog_phase/incorr4/fourth/4': 294, # Number 4, recognition phase | incorrect in place 4\n",
    " 'recog_phase/incorr4/fourth/6': 296, # Number 4, recognition phase | incorrect in place 4\n",
    " 'recog_phase/incorr4/fourth/8': 298, # Number 4, recognition phase | incorrect in place 4\n",
    " 'recog_phase/incorr4/fifth/1': 301, # Number 5, recognition phase | incorrect in place 4\n",
    " 'recog_phase/incorr4/fifth/3': 303, # Number 5, recognition phase | incorrect in place 4\n",
    " 'recog_phase/incorr4/fifth/4': 304, # Number 5, recognition phase | incorrect in place 4\n",
    " 'recog_phase/incorr4/fifth/6': 306, # Number 5, recognition phase | incorrect in place 4\n",
    " 'recog_phase/incorr4/fifth/7': 307, # Number 5, recognition phase | incorrect in place 4\n",
    " 'recog_phase/incorr4/fifth/8': 308, # Number 5, recognition phase | incorrect in place 4\n",
    " \n",
    " 'recog_phase/incorr5/first/2': 312, # Number 1, recognition phase | incorrect in place 5\n",
    " 'recog_phase/incorr5/second/5': 325, # Number 2, recognition phase | incorrect in place 5\n",
    " 'recog_phase/incorr5/third/9': 339, # Number 3, recognition phase | incorrect in place 5\n",
    " 'recog_phase/incorr5/fourth/7': 347, # Number 4, recognition phase | incorrect in place 5\n",
    " 'recog_phase/incorr5/fifth/3': 353, # Number 5, recognition phase | incorrect in place 5\n",
    " 'recog_phase/incorr5/fifth/4': 354, # Number 5, recognition phase | incorrect in place 5\n",
    " 'recog_phase/incorr5/fifth/6': 356, # Number 5, recognition phase | incorrect in place 5\n",
    " }\n"
   ]
  },
  {
   "cell_type": "markdown",
   "metadata": {
    "Collapsed": "false"
   },
   "source": [
    "## Establishing a time window for epochs"
   ]
  },
  {
   "cell_type": "code",
   "execution_count": null,
   "metadata": {
    "Collapsed": "false"
   },
   "outputs": [],
   "source": [
    "# establishing time window\n",
    "tmin, tmax = -0.2, 0.5\n",
    "\n",
    "# choosing only EEG channels for epoching\n",
    "picks = mne.pick_types(raw_real.info, meg=False, eeg=True, eog=False)"
   ]
  },
  {
   "cell_type": "code",
   "execution_count": null,
   "metadata": {
    "Collapsed": "false"
   },
   "outputs": [],
   "source": [
    "%%capture\n",
    "\n",
    "# creating the epochs using the variables created in the cell above, and timelocking to the events\n",
    "# baseline time interval spans from beginning of the data (-0.2 s) to 0 s (stimulus onset)\n",
    "# we use the reject variable we created earlier in order to remove artefacts\n",
    "epochs = mne.Epochs(raw_real, new_triggers[:,:], new_event_id, tmin, tmax, picks=picks,\n",
    "                    baseline=(None, 0), reject=reject, preload=True)"
   ]
  },
  {
   "cell_type": "markdown",
   "metadata": {
    "Collapsed": "false"
   },
   "source": [
    "## Downsampling"
   ]
  },
  {
   "cell_type": "code",
   "execution_count": null,
   "metadata": {
    "Collapsed": "false"
   },
   "outputs": [],
   "source": [
    "# downsampling to 250 Hz\n",
    "epochs_resampled = epochs.resample(250)"
   ]
  },
  {
   "cell_type": "markdown",
   "metadata": {
    "Collapsed": "false"
   },
   "source": [
    "# ERP (event related potential)"
   ]
  },
  {
   "cell_type": "code",
   "execution_count": null,
   "metadata": {},
   "outputs": [],
   "source": [
    "# now the '/' used in the event IDs comes in handy! To get all epochs with auditory stimuli, we can index 'auditory' across the left/right dimension (and 'visual', of course)\n",
    "# that way we don't have to specify 'auditory_left' and 'auditory_right' etc.\n",
    "second_incorr = epochs_resampled['recog_phase/incorr2/second'] # when number broke sequence in 2nd position\n",
    "fourth_incorr = epochs_resampled['recog_phase/incorr4/fourth'] # when number broke sequence in 4th position\n",
    "\n",
    "fifth_corr = epochs_resampled['recog_phase/corr/fifth'] # number five during learning phase\n",
    "\n",
    "\n",
    "# plotting one channel as an example for each modality\n",
    "second_incorr.plot_image(picks=['Oz']);\n",
    "fourth_incorr.plot_image(picks=['Oz']);\n",
    "\n",
    "fifth_corr.plot_image(picks=['Oz']);"
   ]
  },
  {
   "cell_type": "code",
   "execution_count": null,
   "metadata": {},
   "outputs": [],
   "source": [
    "# creating evokeds for auditory condition by averaging over epochs\n",
    "second_epocs = second_incorr.average()\n",
    "\n",
    "# creating evokeds for visual condition\n",
    "fourth_epocs = fourth_incorr.average()\n",
    "\n",
    "# creating evokeds for correct phase for fifth number (= hopefully we see no reaction compared to the others)\n",
    "corr_epocs_fifth = fifth_corr.average()"
   ]
  },
  {
   "cell_type": "code",
   "execution_count": null,
   "metadata": {},
   "outputs": [],
   "source": [
    "# plotting the two evokeds together (looking at P3 signal at P3)\n",
    "mne.viz.plot_compare_evokeds(dict(second=second_epocs, fourth=fourth_epocs, corr_fifth=corr_epocs_fifth),picks=['P3'],\n",
    "                             legend='upper left', show_sensors='upper right')"
   ]
  },
  {
   "cell_type": "code",
   "execution_count": null,
   "metadata": {},
   "outputs": [],
   "source": [
    "second_epocs.plot_joint(picks='eeg');\n",
    "fourth_epocs.plot_joint(picks='eeg', title = \"test title\", times = [0.1,0.2,0.3]);"
   ]
  },
  {
   "cell_type": "markdown",
   "metadata": {
    "Collapsed": "false"
   },
   "source": [
    "# Permutation test"
   ]
  },
  {
   "cell_type": "code",
   "execution_count": null,
   "metadata": {},
   "outputs": [],
   "source": [
    "# getting the data from our conditions\n",
    "X = [epochs[k].get_data() for k in ['recog_phase/incorr2/second', 'recog_phase/incorr4/fourth']]\n",
    "print(X[0].shape)\n",
    "\n",
    "# transposing\n",
    "X = [np.transpose(x, (0, 2, 1)) for x in X]\n",
    "print(X[0].shape)"
   ]
  }
 ],
 "metadata": {
  "kernelspec": {
   "display_name": "Python 3",
   "language": "python",
   "name": "python3"
  },
  "language_info": {
   "codemirror_mode": {
    "name": "ipython",
    "version": 3
   },
   "file_extension": ".py",
   "mimetype": "text/x-python",
   "name": "python",
   "nbconvert_exporter": "python",
   "pygments_lexer": "ipython3",
   "version": "3.7.6"
  }
 },
 "nbformat": 4,
 "nbformat_minor": 4
}
