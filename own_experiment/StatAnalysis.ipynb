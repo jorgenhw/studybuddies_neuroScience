{
 "cells": [
  {
   "cell_type": "markdown",
   "metadata": {
    "Collapsed": "false"
   },
   "source": [
    "# EEG Statistics\n",
    "\n",
    "## Epochs\n",
    "We need epochs for the statistical tests, so you can insert your preprocessed data from earlier tutorials under this section. I'll read in some epochs from your FaceWord which I prepared earlier and I'll be looking at the words/images contrast.\n",
    "\n",
    "(Tip: You can save the epochs object you created in your preprocessing notebook by using epochs.save('your_epochs-epo.fif'))\n",
    "\n",
    "(Extra tip: You can run terminal commands from cells using the os.system() function or simply writing an exclamation mark before the command)"
   ]
  },
  {
   "cell_type": "markdown",
   "metadata": {
    "Collapsed": "false"
   },
   "source": [
    "## Importing modules"
   ]
  },
  {
   "cell_type": "code",
   "execution_count": 4,
   "metadata": {
    "Collapsed": "false"
   },
   "outputs": [],
   "source": [
    "!python -m pip install mne --quiet\n",
    "!pip install scikit-learn --quiet\n",
    "!pip install pandas --quiet\n",
    "\n",
    "\n",
    "import numpy as np\n",
    "import pandas as pd\n",
    "import mne"
   ]
  },
  {
   "cell_type": "markdown",
   "metadata": {
    "Collapsed": "false"
   },
   "source": [
    "## Importing epochs"
   ]
  },
  {
   "cell_type": "code",
   "execution_count": 6,
   "metadata": {
    "Collapsed": "false"
   },
   "outputs": [
    {
     "name": "stdout",
     "output_type": "stream",
     "text": [
      "Reading /work/studybuddies_neuroScience/own_experiment/ownExperiment_epochs-epo.fif ...\n",
      "    Found the data of interest:\n",
      "        t =    -200.00 ...     496.00 ms\n",
      "        0 CTF compensation matrices available\n",
      "0 bad epochs dropped\n",
      "Not setting metadata\n",
      "523 matching events found\n",
      "No baseline correction applied\n",
      "0 projection items activated\n"
     ]
    }
   ],
   "source": [
    "epochs = mne.read_epochs('ownExperiment_epochs-epo.fif')"
   ]
  },
  {
   "cell_type": "markdown",
   "metadata": {
    "Collapsed": "false"
   },
   "source": [
    "### Dividing into different conditions"
   ]
  },
  {
   "cell_type": "code",
   "execution_count": 28,
   "metadata": {
    "Collapsed": "false"
   },
   "outputs": [],
   "source": [
    "incorr2_epocs = epochs['recog_phase/incorr2/second']\n",
    "incorr4_epocs = epochs['recog_phase/incorr4/second']\n",
    "corr5_epocs = epochs['recog_phase/corr/fifth']"
   ]
  },
  {
   "cell_type": "markdown",
   "metadata": {
    "Collapsed": "false"
   },
   "source": [
    "## Windowed mean\n",
    "Now we have our two conditions: trials with words vs images. One of the simplest way in which we can determine whether the signal in our two conditions are statistically significant is by:\n",
    "\n",
    "1) Segmenting our data using only certain channels in a specific time window. **Keep in mind which time window and channels should be established a priori, for instance according to the literature.** \n",
    "2) Taking the mean of that window across channels and and samples.\n",
    "3) Running statistical tests on the windowed means from the two conditions.\n",
    "\n",
    "In an experiment with multiple participants we would also average over trials from individual participants, in order to only have one data point per participant (and thereby avoid multiple comparisons). However, since we have one participant, we can keep one dimension of the individual data, i.e. the trials.\n",
    "\n",
    "### T-test\n",
    "We can now do a t-test on the trials from the two conditions, to establish whether the means of the two groups are statistically significant.\n",
    "\n",
    "We can use the get_data() function to get the numerical values of the signal (in microvolts) for the t-test. tmin and tmax are used to define the size of the window, and the picks are the channels that we expect to see an effect in."
   ]
  },
  {
   "cell_type": "code",
   "execution_count": 38,
   "metadata": {
    "Collapsed": "false"
   },
   "outputs": [
    {
     "name": "stdout",
     "output_type": "stream",
     "text": [
      "(25, 3, 25)\n",
      "(25, 3, 25)\n",
      "(31, 3, 25)\n"
     ]
    }
   ],
   "source": [
    "incorr2_data = incorr2_epocs.get_data(picks=['O1', 'Oz', 'O2'], tmin=.1, tmax=.2) #01,Oz,02 centered around visCortex\n",
    "print(incorr2_data.shape)\n",
    "\n",
    "incorr4_data = incorr4_epocs.get_data(picks=['O1', 'Oz', 'O2'], tmin=.1, tmax=.2)\n",
    "print(incorr4_data.shape)\n",
    "\n",
    "corr5_data = corr5_epocs.get_data(picks=['O1', 'Oz', 'O2'], tmin=.1, tmax=.2)\n",
    "print(corr5_data.shape)"
   ]
  },
  {
   "cell_type": "markdown",
   "metadata": {
    "Collapsed": "false"
   },
   "source": [
    "I've also tried adding \n",
    "```, 'P3', 'P4', 'Pz'``` \n",
    "to the channels (picks) which didn't improve anything"
   ]
  },
  {
   "cell_type": "markdown",
   "metadata": {
    "Collapsed": "false"
   },
   "source": [
    "Investigating the resulting data; how many dimensions does the data have? What do you think they represent (i.e. which dimension is channels, trials, etc.)?\n",
    "\n",
    "Now we can average over the data so we only have the trials dimension."
   ]
  },
  {
   "cell_type": "code",
   "execution_count": 39,
   "metadata": {
    "Collapsed": "false"
   },
   "outputs": [
    {
     "name": "stdout",
     "output_type": "stream",
     "text": [
      "(25,)\n",
      "(25,)\n",
      "(31,)\n"
     ]
    }
   ],
   "source": [
    "# Incorrect second\n",
    "incorr2_mean = np.mean(incorr2_data, axis=2) # averaging over the third dimension of the data\n",
    "incorr2_mean = np.mean(incorr2_mean, axis=1) # averaging over the second dimension of the data\n",
    "print(incorr2_mean.shape)\n",
    "\n",
    "# Incorrect fourth\n",
    "incorr4_mean = np.mean(incorr4_data, axis=2)\n",
    "incorr4_mean = np.mean(incorr4_mean, axis=1)\n",
    "print(incorr4_mean.shape)\n",
    "\n",
    "# Correct fifth\n",
    "corr5_mean = np.mean(corr5_data, axis=2)\n",
    "corr5_mean = np.mean(corr5_mean, axis=1)\n",
    "print(corr5_mean.shape)"
   ]
  },
  {
   "cell_type": "code",
   "execution_count": 40,
   "metadata": {
    "Collapsed": "false"
   },
   "outputs": [
    {
     "data": {
      "text/plain": [
       "Ttest_indResult(statistic=-0.5007732311224988, pvalue=0.6188193659444556)"
      ]
     },
     "execution_count": 40,
     "metadata": {},
     "output_type": "execute_result"
    }
   ],
   "source": [
    "from scipy import stats as st\n",
    "import statistics as stats\n",
    "\n",
    "st.ttest_ind(a=incorr2_mean, b=incorr4_mean)"
   ]
  },
  {
   "cell_type": "markdown",
   "metadata": {
    "Collapsed": "false"
   },
   "source": [
    "# Mixed effects models"
   ]
  },
  {
   "cell_type": "markdown",
   "metadata": {
    "Collapsed": "false"
   },
   "source": [
    "By averaging over multiple dimensions of our data, we are of couse throwing away some information. If we had multiple participants, we could add the trials back into the mix by using a mixed-effects model. Since we already have trials, we could add the samples or channels as random effects in a mixed-effects model.\n",
    "\n",
    "We can export the data in a csv format so you have the option of doing a bit of modelling in R if you would like to ;-)"
   ]
  },
  {
   "cell_type": "code",
   "execution_count": null,
   "metadata": {
    "Collapsed": "false"
   },
   "outputs": [],
   "source": [
    "shape = incorr_data.shape\n",
    "index = pd.MultiIndex.from_product([range(s)for s in shape])\n",
    "word_pos = pd.DataFrame({'word_pos_data': word_pos_data.flatten()}, index=index).reset_index()\n",
    "word_pos.to_csv('word_pos_data.csv', index=False)\n",
    "\n",
    "shape = word_neg_data.shape\n",
    "index = pd.MultiIndex.from_product([range(s)for s in shape])\n",
    "word_neg = pd.DataFrame({'word_neg_data': word_neg_data.flatten()}, index=index).reset_index()\n",
    "word_neg.to_csv('word_neg_data.csv', index=False)"
   ]
  },
  {
   "cell_type": "markdown",
   "metadata": {
    "Collapsed": "false"
   },
   "source": [
    "# Permutation test\n",
    "The null hypothesis (H0) is that the data in the two conditions comes from the same probability distribution (i.e. they are interchangeable). In order to test this we scramble the data in the conditions n amount of times to get an idea of what distributions of cluster sizes we would expect if there is no difference between conditions. Based on this distribution we can establish how large a cluster should be to cross our significance level (e.g. 0.05) and then compare this to the clusters based on our conditions. If the highest value from our clusters is larger, this suggests that the data in the conditions are not interchangeable (i.e. the difference between them is significant)."
   ]
  },
  {
   "cell_type": "code",
   "execution_count": 3,
   "metadata": {
    "Collapsed": "false"
   },
   "outputs": [
    {
     "ename": "NameError",
     "evalue": "name 'epochs' is not defined",
     "output_type": "error",
     "traceback": [
      "\u001b[0;31m---------------------------------------------------------------------------\u001b[0m",
      "\u001b[0;31mNameError\u001b[0m                                 Traceback (most recent call last)",
      "\u001b[0;32m<ipython-input-3-4701fce8befa>\u001b[0m in \u001b[0;36m<module>\u001b[0;34m\u001b[0m\n\u001b[1;32m      1\u001b[0m \u001b[0;31m# getting the data from our conditions\u001b[0m\u001b[0;34m\u001b[0m\u001b[0;34m\u001b[0m\u001b[0;34m\u001b[0m\u001b[0m\n\u001b[0;32m----> 2\u001b[0;31m \u001b[0mX\u001b[0m \u001b[0;34m=\u001b[0m \u001b[0;34m[\u001b[0m\u001b[0mepochs\u001b[0m\u001b[0;34m[\u001b[0m\u001b[0mk\u001b[0m\u001b[0;34m]\u001b[0m\u001b[0;34m.\u001b[0m\u001b[0mget_data\u001b[0m\u001b[0;34m(\u001b[0m\u001b[0;34m)\u001b[0m \u001b[0;32mfor\u001b[0m \u001b[0mk\u001b[0m \u001b[0;32min\u001b[0m \u001b[0;34m[\u001b[0m\u001b[0;34m'Word'\u001b[0m\u001b[0;34m,\u001b[0m \u001b[0;34m'Image'\u001b[0m\u001b[0;34m]\u001b[0m\u001b[0;34m]\u001b[0m\u001b[0;34m\u001b[0m\u001b[0;34m\u001b[0m\u001b[0m\n\u001b[0m\u001b[1;32m      3\u001b[0m \u001b[0mprint\u001b[0m\u001b[0;34m(\u001b[0m\u001b[0mX\u001b[0m\u001b[0;34m[\u001b[0m\u001b[0;36m0\u001b[0m\u001b[0;34m]\u001b[0m\u001b[0;34m.\u001b[0m\u001b[0mshape\u001b[0m\u001b[0;34m)\u001b[0m\u001b[0;34m\u001b[0m\u001b[0;34m\u001b[0m\u001b[0m\n\u001b[1;32m      4\u001b[0m \u001b[0;34m\u001b[0m\u001b[0m\n\u001b[1;32m      5\u001b[0m \u001b[0;31m# transposing\u001b[0m\u001b[0;34m\u001b[0m\u001b[0;34m\u001b[0m\u001b[0;34m\u001b[0m\u001b[0m\n",
      "\u001b[0;32m<ipython-input-3-4701fce8befa>\u001b[0m in \u001b[0;36m<listcomp>\u001b[0;34m(.0)\u001b[0m\n\u001b[1;32m      1\u001b[0m \u001b[0;31m# getting the data from our conditions\u001b[0m\u001b[0;34m\u001b[0m\u001b[0;34m\u001b[0m\u001b[0;34m\u001b[0m\u001b[0m\n\u001b[0;32m----> 2\u001b[0;31m \u001b[0mX\u001b[0m \u001b[0;34m=\u001b[0m \u001b[0;34m[\u001b[0m\u001b[0mepochs\u001b[0m\u001b[0;34m[\u001b[0m\u001b[0mk\u001b[0m\u001b[0;34m]\u001b[0m\u001b[0;34m.\u001b[0m\u001b[0mget_data\u001b[0m\u001b[0;34m(\u001b[0m\u001b[0;34m)\u001b[0m \u001b[0;32mfor\u001b[0m \u001b[0mk\u001b[0m \u001b[0;32min\u001b[0m \u001b[0;34m[\u001b[0m\u001b[0;34m'Word'\u001b[0m\u001b[0;34m,\u001b[0m \u001b[0;34m'Image'\u001b[0m\u001b[0;34m]\u001b[0m\u001b[0;34m]\u001b[0m\u001b[0;34m\u001b[0m\u001b[0;34m\u001b[0m\u001b[0m\n\u001b[0m\u001b[1;32m      3\u001b[0m \u001b[0mprint\u001b[0m\u001b[0;34m(\u001b[0m\u001b[0mX\u001b[0m\u001b[0;34m[\u001b[0m\u001b[0;36m0\u001b[0m\u001b[0;34m]\u001b[0m\u001b[0;34m.\u001b[0m\u001b[0mshape\u001b[0m\u001b[0;34m)\u001b[0m\u001b[0;34m\u001b[0m\u001b[0;34m\u001b[0m\u001b[0m\n\u001b[1;32m      4\u001b[0m \u001b[0;34m\u001b[0m\u001b[0m\n\u001b[1;32m      5\u001b[0m \u001b[0;31m# transposing\u001b[0m\u001b[0;34m\u001b[0m\u001b[0;34m\u001b[0m\u001b[0;34m\u001b[0m\u001b[0m\n",
      "\u001b[0;31mNameError\u001b[0m: name 'epochs' is not defined"
     ]
    }
   ],
   "source": [
    "# getting the data from our conditions\n",
    "X = [epochs[k].get_data() for k in ['Word', 'Image']]\n",
    "print(X[0].shape)\n",
    "\n",
    "# transposing\n",
    "X = [np.transpose(x, (0, 2, 1)) for x in X]\n",
    "print(X[0].shape)"
   ]
  },
  {
   "cell_type": "code",
   "execution_count": null,
   "metadata": {
    "Collapsed": "false"
   },
   "outputs": [],
   "source": [
    "# set family-wise p-value\n",
    "p_accept = 0.05\n",
    "\n",
    "# running the permutation test with 2000 permutations and a random seed of 4\n",
    "cluster_stats = mne.stats.spatio_temporal_cluster_test(X, n_permutations=1000, tail=0,\n",
    "                                             n_jobs=-1, buffer_size=None, adjacency=adjacency, seed=4)\n",
    "\n",
    "# selecting clusters with significant p-values\n",
    "T_obs, clusters, p_values, _ = cluster_stats\n",
    "good_cluster_inds = np.where(p_values < p_accept)[0]"
   ]
  },
  {
   "cell_type": "markdown",
   "metadata": {
    "Collapsed": "false"
   },
   "source": [
    "The code for this plot is a bit long and complex but you don't have to go through it all, just swap in your conditions in the first couple of lines :-)"
   ]
  },
  {
   "cell_type": "code",
   "execution_count": null,
   "metadata": {
    "Collapsed": "false"
   },
   "outputs": [],
   "source": [
    "from mpl_toolkits.axes_grid1 import make_axes_locatable\n",
    "\n",
    "# configuration of variables for visualisation\n",
    "colors = {\"Word\": \"crimson\", \"Image\": 'steelblue'}\n",
    "\n",
    "# organising data for plotting\n",
    "evokeds = {cond: epochs[cond].average() for cond in ['Word', 'Image']} \n",
    "\n",
    "# looping over clusters\n",
    "for i_clu, clu_idx in enumerate(good_cluster_inds):\n",
    "    # unpacking cluster information\n",
    "    time_inds, space_inds = np.squeeze(clusters[clu_idx])\n",
    "    ch_inds = np.unique(space_inds)\n",
    "    time_inds = np.unique(time_inds)\n",
    "\n",
    "    # topography for F stat\n",
    "    f_map = T_obs[time_inds, ...].mean(axis=0)\n",
    "\n",
    "    # getting signals at the sensors contributing to the cluster\n",
    "    sig_times = epochs.times[time_inds]\n",
    "\n",
    "    # creating spatial mask\n",
    "    mask = np.zeros((f_map.shape[0], 1), dtype=bool)\n",
    "    mask[ch_inds, :] = True\n",
    "\n",
    "    # initialising the figure\n",
    "    fig, ax_topo = plt.subplots(1, 1, figsize=(10, 3))\n",
    "\n",
    "    # plotting average test statistic and mark significant sensors\n",
    "    f_evoked = mne.EvokedArray(f_map[:, np.newaxis], epochs.info, tmin=0)\n",
    "    f_evoked.plot_topomap(times=0, mask=mask, axes=ax_topo, cmap='Reds',\n",
    "                          vmin=np.min, vmax=np.max, show=False,\n",
    "                          colorbar=False, mask_params=dict(markersize=10))\n",
    "    image = ax_topo.images[0]\n",
    "\n",
    "    # creating additional axes (for ERF and colorbar)\n",
    "    divider = make_axes_locatable(ax_topo)\n",
    "\n",
    "    # adding axes for colourbar\n",
    "    ax_colorbar = divider.append_axes('right', size='5%', pad=0.05)\n",
    "    plt.colorbar(image, cax=ax_colorbar)\n",
    "    ax_topo.set_xlabel(\n",
    "        'Averaged F-map ({:0.3f} - {:0.3f} s)'.format(*sig_times[[0, -1]]))\n",
    "\n",
    "    # adding new axis for time courses and plot time courses\n",
    "    ax_signals = divider.append_axes('right', size='300%', pad=1.2)\n",
    "    title = 'Cluster #{0}, {1} sensor'.format(i_clu + 1, len(ch_inds))\n",
    "    if len(ch_inds) > 1:\n",
    "        title += \"s (mean)\"\n",
    "    mne.viz.plot_compare_evokeds(evokeds, title=title, picks=ch_inds, axes=ax_signals,\n",
    "                         colors=colors, show=False,\n",
    "                         split_legend=True, truncate_yaxis='auto')\n",
    "\n",
    "    # plotting temporal cluster extent\n",
    "    ymin, ymax = ax_signals.get_ylim()\n",
    "    ax_signals.fill_betweenx((ymin, ymax), sig_times[0], sig_times[-1],\n",
    "                             color='orange', alpha=0.3)\n",
    "\n",
    "    # clean-up\n",
    "    mne.viz.tight_layout(fig=fig)\n",
    "    fig.subplots_adjust(bottom=.05)\n",
    "    plt.show()"
   ]
  }
 ],
 "metadata": {
  "kernelspec": {
   "display_name": "Python 3",
   "language": "python",
   "name": "python3"
  },
  "language_info": {
   "codemirror_mode": {
    "name": "ipython",
    "version": 3
   },
   "file_extension": ".py",
   "mimetype": "text/x-python",
   "name": "python",
   "nbconvert_exporter": "python",
   "pygments_lexer": "ipython3",
   "version": "3.7.6"
  }
 },
 "nbformat": 4,
 "nbformat_minor": 4
}
