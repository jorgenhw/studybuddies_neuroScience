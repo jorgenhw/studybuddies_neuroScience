{
 "cells": [
  {
   "cell_type": "markdown",
   "id": "d3fe3502-702e-40b7-897f-380ee5a8d920",
   "metadata": {},
   "source": [
    "RT code snippet"
   ]
  },
  {
   "cell_type": "markdown",
   "id": "2b0bf3c9-be7b-429a-be60-45c262365e87",
   "metadata": {},
   "source": [
    "Re-epoch (not part of the assignment)\n",
    "\n",
    "Subsetting only trials with correct responses"
   ]
  },
  {
   "cell_type": "code",
   "execution_count": null,
   "id": "fe658aa9-d55f-4a86-8696-9f8ba0520640",
   "metadata": {},
   "outputs": [],
   "source": [
    "from resp_trigger import convert_triggers"
   ]
  },
  {
   "cell_type": "code",
   "execution_count": null,
   "id": "342bf369-f52c-451b-b0e7-01debf7a8312",
   "metadata": {},
   "outputs": [],
   "source": [
    "events_corr, event_id_corr = convert_triggers(events, return_event_ids=True)"
   ]
  },
  {
   "cell_type": "code",
   "execution_count": null,
   "id": "6b152921-10af-47d6-a362-55756b12e97a",
   "metadata": {},
   "outputs": [],
   "source": [
    "mne.viz.plot_events(events_corr, sfreq=250, first_samp=raw.first_samp, event_id=event_id_corr);"
   ]
  },
  {
   "cell_type": "markdown",
   "id": "1299bc63-0d3c-4d42-bab9-d71e342f5d4b",
   "metadata": {},
   "source": [
    "Response times\n",
    "\n",
    "We can now use the trigers from the responses to calculate response times and sort our trials according to the RT"
   ]
  },
  {
   "cell_type": "code",
   "execution_count": null,
   "id": "30d44e13-5f29-430a-bb47-d0ca943102be",
   "metadata": {},
   "outputs": [],
   "source": [
    "events_tmp = events_corr.copy() # making a copy of the events structure so we don't fiddle with the original structure\n",
    "rt = np.zeros([np.shape(events_tmp)[0],2]) # creating an rt-structure with zeros, same length as events and 2 columns\n",
    "for idx, line in enumerate(events_tmp): # iterating over each line in the events structure\n",
    "    if any(line[2] == [101,102,111,112]): # picking out only the correct-response lines\n",
    "        rt[idx] = (line[2],line[0]-events_tmp[idx-1,0]) # subtracting the timestamps of the preceding image from the from that of the response\n",
    "pure_rt = rt[np.nonzero(rt[:,0]),][0] # creating a structure only with response times (i.e. no \"blank\" lines for all the other triggers from word, image, etc.)\n",
    "mean_rt = [(x, np.mean(pure_rt[pure_rt[:,0]==x,1]), \n",
    "                    np.std(pure_rt[pure_rt[:,0]==x,1])) \n",
    "                   for x in np.unique(pure_rt[:,0])] # calculating the mean and standard deviation of the rt for each unique trigger value in pure_rt (using list comprehension)\n",
    "[print(\"{}: {:5.2f} (±{:5.2f}) ms\\n\".format(list(event_id_corr.keys())[list(event_id_corr.values()).index(i)],\n",
    "                                            j,k)) for i,j,k in mean_rt] # printing those values (using list comprehension)\n",
    "\n",
    "image_rt = np.concatenate(([events_tmp[np.nonzero(rt[:,0])[0]-1,2]], [rt[np.nonzero(rt[:,0]),1][0]]), axis=0).T # concatenating image-triggers with the relevant rts\n",
    "mean_image_rt = [(x, np.mean(image_rt[image_rt[:,0]==x,1]), \n",
    "                  np.std(image_rt[image_rt[:,0]==x,1])) \n",
    "                 for x in np.unique(image_rt[:,0])] # calculating the mean and standard deviation of the rt for each unique trigger value in image_rt (should be identical to the response-categories\n",
    "[print(\"{}: {:5.2f} (±{:5.2f}) ms\\n\".format(list(event_id_corr.keys())[list(event_id_corr.values()).index(i)],\n",
    "                                            j,k)) for i,j,k in mean_image_rt] # printing those values"
   ]
  }
 ],
 "metadata": {
  "kernelspec": {
   "display_name": "Python 3 ",
   "language": "python",
   "name": "python3"
  },
  "language_info": {
   "codemirror_mode": {
    "name": "ipython",
    "version": 3
   },
   "file_extension": ".py",
   "mimetype": "text/x-python",
   "name": "python",
   "nbconvert_exporter": "python",
   "pygments_lexer": "ipython3",
   "version": "3.9.6"
  }
 },
 "nbformat": 4,
 "nbformat_minor": 5
}
